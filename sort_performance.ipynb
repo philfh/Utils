{
 "cells": [
  {
   "cell_type": "code",
   "execution_count": 7,
   "id": "dad06ba8-fce0-460a-8427-b6645b827d47",
   "metadata": {},
   "outputs": [],
   "source": [
    "import numpy as np\n",
    "import pandas as pd\n",
    "import numba as nb"
   ]
  },
  {
   "cell_type": "code",
   "execution_count": 2,
   "id": "28b39a14-b117-4669-b585-32231438a3c0",
   "metadata": {},
   "outputs": [],
   "source": [
    "N, n = 10000, 10000\n",
    "pct1, pct99 = 100, 9900\n",
    "arr = np.random.randn(n, N)"
   ]
  },
  {
   "cell_type": "code",
   "execution_count": 16,
   "id": "4c2920dd-0b36-473f-83ab-3c3f212090e0",
   "metadata": {
    "tags": []
   },
   "outputs": [],
   "source": [
    "def risk_measure_np(arr):\n",
    "    arr_sort = np.sort(arr)\n",
    "    VaR = arr_sort[:, [pct1, pct99]]\n",
    "    left_tail, right_tail = arr_sort[:, :pct1], arr_sort[:, pct99:]\n",
    "    ES1, ES99 = np.mean(left_tail, axis=1), np.mean(right_tail, axis=1)\n",
    "    ES = np.stack((ES1, ES99), axis=1)\n",
    "    return VaR, ES"
   ]
  },
  {
   "cell_type": "code",
   "execution_count": 17,
   "id": "e22b437a-9c14-40c6-8d6d-fe29cc931102",
   "metadata": {},
   "outputs": [
    {
     "name": "stdout",
     "output_type": "stream",
     "text": [
      "5.56 s ± 146 ms per loop (mean ± std. dev. of 7 runs, 1 loop each)\n"
     ]
    }
   ],
   "source": [
    "%timeit VaR, ES = risk_measure_np(arr)\n",
    "# display(VaR, ES)"
   ]
  },
  {
   "cell_type": "code",
   "execution_count": 28,
   "id": "5ed22444-cb0c-468c-b84f-5a4ebde38ef9",
   "metadata": {
    "tags": []
   },
   "outputs": [],
   "source": [
    "@nb.jit\n",
    "def risk_measure_np(arr):\n",
    "    arr_sort = np.sort(arr, axis=1)\n",
    "    return arr_sort"
   ]
  },
  {
   "cell_type": "code",
   "execution_count": 30,
   "id": "08a3148a-670e-4342-b850-e3809ee5b1ae",
   "metadata": {},
   "outputs": [
    {
     "data": {
      "text/plain": [
       "array([[-0.11573952,  0.34097428,  1.12739016, ..., -0.38640829,\n",
       "        -0.55641647,  0.20277826],\n",
       "       [ 0.93823465, -1.18568809,  0.22206313, ..., -0.55630954,\n",
       "         0.97654478, -1.02695767],\n",
       "       [ 0.2127753 ,  0.61543232, -2.64875197, ..., -1.40566966,\n",
       "         0.28255733, -0.1390713 ],\n",
       "       ...,\n",
       "       [-0.61799798,  2.48748143,  0.39549937, ..., -0.74864695,\n",
       "        -0.4805876 , -0.32056304],\n",
       "       [ 0.88140629,  0.33988739,  0.67369271, ..., -0.12394958,\n",
       "        -1.65849982,  0.76585789],\n",
       "       [ 1.67815214,  1.37611418,  0.94984644, ...,  1.37083817,\n",
       "        -0.38327814,  0.16744417]])"
      ]
     },
     "execution_count": 30,
     "metadata": {},
     "output_type": "execute_result"
    }
   ],
   "source": [
    "arr"
   ]
  },
  {
   "cell_type": "code",
   "execution_count": 29,
   "id": "49c3a63b-e0d2-422f-a663-8237d4509713",
   "metadata": {},
   "outputs": [
    {
     "name": "stderr",
     "output_type": "stream",
     "text": [
      "/var/folders/z_/3qxnq2j91195ff29hsnwv7w80000gn/T/ipykernel_80946/1903543859.py:1: NumbaWarning: \u001B[1m\n",
      "Compilation is falling back to object mode WITH looplifting enabled because Function \"risk_measure_np\" failed type inference due to: \u001B[1m\u001B[1m\u001B[1mNo implementation of function Function(<function sort at 0x7f8160fbd1f0>) found for signature:\n",
      " \n",
      " >>> sort(array(float64, 2d, C), axis=Literal[int](1))\n",
      " \n",
      "There are 4 candidate implementations:\n",
      "\u001B[1m      - Of which 2 did not match due to:\n",
      "      Overload in function '_OverloadWrapper._build.<locals>.ol_generated': File: numba/core/overload_glue.py: Line 131.\n",
      "        With argument(s): '(array(float64, 2d, C), axis=int64)':\u001B[0m\n",
      "\u001B[1m       Rejected as the implementation raised a specific error:\n",
      "         TypingError: Failed in nopython mode pipeline (step: nopython frontend)\n",
      "       \u001B[1m\u001B[1m\u001B[1mNo implementation of function Function(<intrinsic stub>) found for signature:\n",
      "        \n",
      "        >>> stub(array(float64, 2d, C), int64)\n",
      "        \n",
      "       There are 2 candidate implementations:\n",
      "       \u001B[1m  - Of which 2 did not match due to:\n",
      "         Intrinsic in function 'stub': File: numba/core/overload_glue.py: Line 35.\n",
      "           With argument(s): '(array(float64, 2d, C), int64)':\u001B[0m\n",
      "       \u001B[1m   Rejected as the implementation raised a specific error:\n",
      "            TypeError: typer() got an unexpected keyword argument 'axis'\u001B[0m\n",
      "         raised from /Users/philfeihuang/opt/anaconda3/lib/python3.9/site-packages/numba/core/typing/templates.py:405\n",
      "       \u001B[0m\n",
      "       \u001B[0m\u001B[1mDuring: resolving callee type: Function(<intrinsic stub>)\u001B[0m\n",
      "       \u001B[0m\u001B[1mDuring: typing of call at <string> (3)\n",
      "       \u001B[0m\n",
      "       \u001B[1m\n",
      "       File \"<string>\", line 3:\u001B[0m\n",
      "       \u001B[1m<source missing, REPL/exec in use?>\u001B[0m\n",
      "\u001B[0m\n",
      "  raised from /Users/philfeihuang/opt/anaconda3/lib/python3.9/site-packages/numba/core/typeinfer.py:1074\n",
      "\u001B[1m      - Of which 2 did not match due to:\n",
      "      Overload in function '_OverloadWrapper._build.<locals>.ol_generated': File: numba/core/overload_glue.py: Line 131.\n",
      "        With argument(s): '(array(float64, 2d, C), axis=Literal[int](1))':\u001B[0m\n",
      "\u001B[1m       Rejected as the implementation raised a specific error:\n",
      "         TypingError: Failed in nopython mode pipeline (step: nopython frontend)\n",
      "       \u001B[1m\u001B[1m\u001B[1mNo implementation of function Function(<intrinsic stub>) found for signature:\n",
      "        \n",
      "        >>> stub(array(float64, 2d, C), Literal[int](1))\n",
      "        \n",
      "       There are 2 candidate implementations:\n",
      "       \u001B[1m  - Of which 2 did not match due to:\n",
      "         Intrinsic in function 'stub': File: numba/core/overload_glue.py: Line 35.\n",
      "           With argument(s): '(array(float64, 2d, C), int64)':\u001B[0m\n",
      "       \u001B[1m   Rejected as the implementation raised a specific error:\n",
      "            TypeError: typer() got an unexpected keyword argument 'axis'\u001B[0m\n",
      "         raised from /Users/philfeihuang/opt/anaconda3/lib/python3.9/site-packages/numba/core/typing/templates.py:405\n",
      "       \u001B[0m\n",
      "       \u001B[0m\u001B[1mDuring: resolving callee type: Function(<intrinsic stub>)\u001B[0m\n",
      "       \u001B[0m\u001B[1mDuring: typing of call at <string> (3)\n",
      "       \u001B[0m\n",
      "       \u001B[1m\n",
      "       File \"<string>\", line 3:\u001B[0m\n",
      "       \u001B[1m<source missing, REPL/exec in use?>\u001B[0m\n",
      "\u001B[0m\n",
      "  raised from /Users/philfeihuang/opt/anaconda3/lib/python3.9/site-packages/numba/core/typeinfer.py:1074\n",
      "\u001B[0m\n",
      "\u001B[0m\u001B[1mDuring: resolving callee type: Function(<function sort at 0x7f8160fbd1f0>)\u001B[0m\n",
      "\u001B[0m\u001B[1mDuring: typing of call at /var/folders/z_/3qxnq2j91195ff29hsnwv7w80000gn/T/ipykernel_80946/1903543859.py (3)\n",
      "\u001B[0m\n",
      "\u001B[1m\n",
      "File \"../../../../../var/folders/z_/3qxnq2j91195ff29hsnwv7w80000gn/T/ipykernel_80946/1903543859.py\", line 3:\u001B[0m\n",
      "\u001B[1m<source missing, REPL/exec in use?>\u001B[0m\n",
      "\u001B[0m\n",
      "  @nb.jit\n",
      "/Users/philfeihuang/opt/anaconda3/lib/python3.9/site-packages/numba/core/object_mode_passes.py:151: NumbaWarning: \u001B[1mFunction \"risk_measure_np\" was compiled in object mode without forceobj=True.\n",
      "\u001B[1m\n",
      "File \"../../../../../var/folders/z_/3qxnq2j91195ff29hsnwv7w80000gn/T/ipykernel_80946/1903543859.py\", line 1:\u001B[0m\n",
      "\u001B[1m<source missing, REPL/exec in use?>\u001B[0m\n",
      "\u001B[0m\n",
      "  warnings.warn(errors.NumbaWarning(warn_msg,\n",
      "/Users/philfeihuang/opt/anaconda3/lib/python3.9/site-packages/numba/core/object_mode_passes.py:161: NumbaDeprecationWarning: \u001B[1m\n",
      "Fall-back from the nopython compilation path to the object mode compilation path has been detected, this is deprecated behaviour.\n",
      "\n",
      "For more information visit https://numba.pydata.org/numba-doc/latest/reference/deprecation.html#deprecation-of-object-mode-fall-back-behaviour-when-using-jit\n",
      "\u001B[1m\n",
      "File \"../../../../../var/folders/z_/3qxnq2j91195ff29hsnwv7w80000gn/T/ipykernel_80946/1903543859.py\", line 1:\u001B[0m\n",
      "\u001B[1m<source missing, REPL/exec in use?>\u001B[0m\n",
      "\u001B[0m\n",
      "  warnings.warn(errors.NumbaDeprecationWarning(msg,\n"
     ]
    },
    {
     "name": "stdout",
     "output_type": "stream",
     "text": [
      "5.47 s ± 25.6 ms per loop (mean ± std. dev. of 7 runs, 1 loop each)\n"
     ]
    }
   ],
   "source": [
    "%timeit risk_measure_np(arr)\n",
    "# display(VaR, ES)"
   ]
  },
  {
   "cell_type": "code",
   "execution_count": 5,
   "id": "acc3fba6-7149-4df4-81a0-093d8978fe8a",
   "metadata": {},
   "outputs": [],
   "source": [
    "def var_func(x):\n",
    "    x.sort_values(inplace=True)\n",
    "    return [x.iloc[pct1], x.iloc[pct99]]\n",
    "def es_func(x):\n",
    "    x.sort_values(inplace=True)\n",
    "    return [x.iloc[:pct1].mean(), x.iloc[pct99:].mean()]\n",
    "\n",
    "def risk_measure_pd(arr):\n",
    "    df = pd.DataFrame(arr)\n",
    "    VaR = df.apply(var_func, axis=1).to_list()\n",
    "    ES = df.apply(es_func, axis=1).to_list()\n",
    "    return VaR, ES"
   ]
  },
  {
   "cell_type": "code",
   "execution_count": 6,
   "id": "ce4ada39-066f-43b5-8e0f-982c4a148c0d",
   "metadata": {},
   "outputs": [
    {
     "name": "stdout",
     "output_type": "stream",
     "text": [
      "15.1 s ± 308 ms per loop (mean ± std. dev. of 7 runs, 1 loop each)\n"
     ]
    },
    {
     "ename": "NameError",
     "evalue": "name 'VaR' is not defined",
     "output_type": "error",
     "traceback": [
      "\u001B[0;31m---------------------------------------------------------------------------\u001B[0m",
      "\u001B[0;31mNameError\u001B[0m                                 Traceback (most recent call last)",
      "\u001B[0;32m/var/folders/z_/3qxnq2j91195ff29hsnwv7w80000gn/T/ipykernel_80946/3141784084.py\u001B[0m in \u001B[0;36m<module>\u001B[0;34m\u001B[0m\n\u001B[1;32m      1\u001B[0m \u001B[0mget_ipython\u001B[0m\u001B[0;34m(\u001B[0m\u001B[0;34m)\u001B[0m\u001B[0;34m.\u001B[0m\u001B[0mrun_line_magic\u001B[0m\u001B[0;34m(\u001B[0m\u001B[0;34m'timeit'\u001B[0m\u001B[0;34m,\u001B[0m \u001B[0;34m'VaR, ES = risk_measure_pd(arr)'\u001B[0m\u001B[0;34m)\u001B[0m\u001B[0;34m\u001B[0m\u001B[0;34m\u001B[0m\u001B[0m\n\u001B[0;32m----> 2\u001B[0;31m \u001B[0mdisplay\u001B[0m\u001B[0;34m(\u001B[0m\u001B[0mVaR\u001B[0m\u001B[0;34m,\u001B[0m \u001B[0mES\u001B[0m\u001B[0;34m)\u001B[0m\u001B[0;34m\u001B[0m\u001B[0;34m\u001B[0m\u001B[0m\n\u001B[0m",
      "\u001B[0;31mNameError\u001B[0m: name 'VaR' is not defined"
     ]
    }
   ],
   "source": [
    "%timeit VaR, ES = risk_measure_pd(arr)\n",
    "display(VaR, ES)"
   ]
  }
 ],
 "metadata": {
  "kernelspec": {
   "display_name": "Python 3 (ipykernel)",
   "language": "python",
   "name": "python3"
  },
  "language_info": {
   "codemirror_mode": {
    "name": "ipython",
    "version": 3
   },
   "file_extension": ".py",
   "mimetype": "text/x-python",
   "name": "python",
   "nbconvert_exporter": "python",
   "pygments_lexer": "ipython3",
   "version": "3.9.7"
  }
 },
 "nbformat": 4,
 "nbformat_minor": 5
}