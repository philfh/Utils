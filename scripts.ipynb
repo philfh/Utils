{
 "cells": [
  {
   "cell_type": "code",
   "execution_count": 37,
   "id": "384f43bf-5ade-4383-9889-3d3ce64963b1",
   "metadata": {},
   "outputs": [
    {
     "data": {
      "text/plain": [
       "[['1M', '50D', '-20D'],\n",
       " ['2W', '50D', '-20D'],\n",
       " ['6M', '50D', '-20D'],\n",
       " ['1M', '50D', '0D'],\n",
       " ['2W', '50D', '0D'],\n",
       " ['6M', '50D', '0D'],\n",
       " ['1M', '50D', '20D'],\n",
       " ['2W', '50D', '20D'],\n",
       " ['6M', '50D', '20D']]"
      ]
     },
     "execution_count": 37,
     "metadata": {},
     "output_type": "execute_result"
    }
   ],
   "source": [
    "import re\n",
    "strs = ['SPX 1M 50D P & Combo, Net -20D', 'SPX 2W 50D P & Combo, Net -20D', 'SPX 6M 50D P & Combo, Net -20D',\n",
    "    'SPX 1M 50D P & Combo, Net 0D', 'SPX 2W 50D P & Combo, Net 0D', 'SPX 6M 50D P & Combo, Net 0D',\n",
    "    'SPX 1M 50D P & Combo, Net 20D', 'SPX 2W 50D P & Combo, Net 20D', 'SPX 6M 50D P & Combo, Net 20D']\n",
    "[re.findall(r\"[-+]?[\\d]+\\w\", s) for s in strs]"
   ]
  },
  {
   "cell_type": "code",
   "execution_count": 33,
   "id": "0734f854-6f9f-42ae-b748-c1f8bc509cc1",
   "metadata": {},
   "outputs": [
    {
     "data": {
      "text/plain": [
       "['SPX 2W 50D P & Combo, Net -20D',\n",
       " 'SPX 2W 50D P & Combo, Net 0D',\n",
       " 'SPX 2W 50D P & Combo, Net 20D',\n",
       " 'SPX 1M 50D P & Combo, Net -20D',\n",
       " 'SPX 1M 50D P & Combo, Net 0D',\n",
       " 'SPX 1M 50D P & Combo, Net 20D',\n",
       " 'SPX 6M 50D P & Combo, Net -20D',\n",
       " 'SPX 6M 50D P & Combo, Net 0D',\n",
       " 'SPX 6M 50D P & Combo, Net 20D']"
      ]
     },
     "execution_count": 33,
     "metadata": {},
     "output_type": "execute_result"
    }
   ],
   "source": [
    "from enum import IntEnum\n",
    "class DayMap(IntEnum):\n",
    "    D = 1\n",
    "    W = 5\n",
    "    M = 20\n",
    "    Y = 250\n",
    "regex = re.compile(r\"[-+]?[\\d]+\\w\")\n",
    "def comp_key(s):\n",
    "    \"\"\" Extract comparison keys based on #days, #delta, #delta\"\"\"\n",
    "    a, b, c = regex.findall(s)\n",
    "    return (float(a[:-1]) * DayMap[a[-1]], float(b[:-1]), float(c[:-1]))\n",
    "sorted(strs, key=comp_key)"
   ]
  },
  {
   "cell_type": "code",
   "execution_count": 52,
   "id": "241ca07f-c54a-4393-bfdc-21cb95531223",
   "metadata": {},
   "outputs": [
    {
     "data": {
      "text/plain": [
       "['SPX 1M 50D P & Combo, Net 0D',\n",
       " 'SPX 2W 50D P & Combo, Net 0D',\n",
       " 'SPX 6M 50D P & Combo, Net 0D']"
      ]
     },
     "execution_count": 52,
     "metadata": {},
     "output_type": "execute_result"
    }
   ],
   "source": [
    "regex = re.compile(r\"[-+]?\\d+\")\n",
    "flags = [abs(float(regex.findall(s)[-1])) < 10 for s in strs]\n",
    "[s for s, f in zip(strs, flags) if f]"
   ]
  }
 ],
 "metadata": {
  "kernelspec": {
   "display_name": "Python 3 (ipykernel)",
   "language": "python",
   "name": "python3"
  },
  "language_info": {
   "codemirror_mode": {
    "name": "ipython",
    "version": 3
   },
   "file_extension": ".py",
   "mimetype": "text/x-python",
   "name": "python",
   "nbconvert_exporter": "python",
   "pygments_lexer": "ipython3",
   "version": "3.9.7"
  }
 },
 "nbformat": 4,
 "nbformat_minor": 5
}
