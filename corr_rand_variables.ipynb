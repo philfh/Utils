{
 "cells": [
  {
   "cell_type": "code",
   "execution_count": 3,
   "id": "aa2324fb-751f-4d7b-8fe8-21d1ba85e4d2",
   "metadata": {},
   "outputs": [],
   "source": [
    "import numpy as np\n",
    "from scipy.linalg import cholesky\n",
    "import pandas as pd"
   ]
  },
  {
   "cell_type": "code",
   "execution_count": 4,
   "id": "dae2c625-fd56-43de-886d-327407b7871b",
   "metadata": {},
   "outputs": [
    {
     "data": {
      "text/plain": [
       "array([[-0.4233389 , -1.36266395, -0.1444166 ,  0.44764628,  0.18384403,\n",
       "         1.09854819, -0.34564221, -0.13648935, -0.74107429,  0.2232883 ],\n",
       "       [ 2.31775981,  0.78707758, -0.07481153, -1.05728304,  1.66803254,\n",
       "        -0.23678286,  0.75002537,  0.39908745, -0.05387632, -0.69126349]])"
      ]
     },
     "execution_count": 4,
     "metadata": {},
     "output_type": "execute_result"
    }
   ],
   "source": [
    "np.random.normal(size=(2, 10))"
   ]
  },
  {
   "cell_type": "code",
   "execution_count": 10,
   "id": "db36cc77-8fa2-440d-a8a4-1e0073e22100",
   "metadata": {},
   "outputs": [
    {
     "data": {
      "text/plain": [
       "array([[1.        , 0.        ],\n",
       "       [0.64      , 0.76837491]])"
      ]
     },
     "execution_count": 10,
     "metadata": {},
     "output_type": "execute_result"
    }
   ],
   "source": [
    "rho = -0.8\n",
    "corr_mat = np.array([[1, rho], [rho, 1]])\n",
    "var_mat = corr * corr\n",
    "cholesky(var_mat, lower=True)"
   ]
  },
  {
   "cell_type": "code",
   "execution_count": null,
   "id": "2650234a-1b18-4adf-9321-5343da3781dc",
   "metadata": {},
   "outputs": [],
   "source": []
  }
 ],
 "metadata": {
  "kernelspec": {
   "display_name": "Python 3 (ipykernel)",
   "language": "python",
   "name": "python3"
  },
  "language_info": {
   "codemirror_mode": {
    "name": "ipython",
    "version": 3
   },
   "file_extension": ".py",
   "mimetype": "text/x-python",
   "name": "python",
   "nbconvert_exporter": "python",
   "pygments_lexer": "ipython3",
   "version": "3.9.7"
  }
 },
 "nbformat": 4,
 "nbformat_minor": 5
}
